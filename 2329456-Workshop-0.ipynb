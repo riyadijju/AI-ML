{
  "cells": [
    {
      "cell_type": "markdown",
      "metadata": {
        "id": "BDOB4iTp7OOk",
        "jp-MarkdownHeadingCollapsed": true
      },
      "source": [
        "# Worksheet- 0\n",
        "\n",
        "**Group:** LC6G16\n",
        "\n",
        "**Name:** Riya Prajapati\n",
        "\n",
        "**Student ID:** 2329456"
      ]
    },
    {
      "cell_type": "markdown",
      "metadata": {
        "id": "J3fUZtulL2tf"
      },
      "source": [
        "# 4.1 Exercise on Functions"
      ]
    },
    {
      "cell_type": "markdown",
      "metadata": {
        "id": "xZ18KvObmqkh"
      },
      "source": [
        "## Create a Python program that converts between different units of measurement."
      ]
    },
    {
      "cell_type": "code",
      "execution_count": null,
      "metadata": {
        "colab": {
          "base_uri": "https://localhost:8080/"
        },
        "id": "IrSq_G-mmc-Q",
        "outputId": "1e6a18a9-9168-4e69-d5e2-63f913de3dd3"
      },
      "outputs": [
        {
          "name": "stdout",
          "output_type": "stream",
          "text": [
            "Choose the type of conversion:\n",
            "1. Length\n",
            "2. Weight\n",
            "3. Volume\n",
            "Enter length, weight, or volume: volume\n",
            "Enter the value: 20\n",
            "20.0 liters is 5.28 gallons\n",
            "20.0 gallons is 75.71 liters\n"
          ]
        }
      ],
      "source": [
        "def conversion():\n",
        "    \"\"\"\n",
        "    A simple unit conversion program that allows the user to convert:\n",
        "    - Length: meters to feet, feet to meters\n",
        "    - Weight: kilograms to pounds, pounds to kilograms\n",
        "    - Volume: liters to gallons, gallons to liters\n",
        "\n",
        "    The function prompts the user for the type of conversion, takes input,\n",
        "    and displays the converted value.\n",
        "    \"\"\"\n",
        "    print(\"Choose the type of conversion:\")\n",
        "    print(\"1. Length\")\n",
        "    print(\"2. Weight\")\n",
        "    print(\"3. Volume\")\n",
        "\n",
        "    choose = input(\"Enter length, weight, or volume: \").strip().lower()  #to Handle Input Variations like LENGTH OR length\n",
        "\n",
        "    try:\n",
        "        if choose == \"length\":\n",
        "            value = float(input(\"Enter the value: \"))\n",
        "            meters_to_feet = value * 3.28084\n",
        "            feet_to_meters = value * 0.3048\n",
        "            print(f\"{value} meters is {meters_to_feet:.2f} feet\")\n",
        "            print(f\"{value} feet is {feet_to_meters:.2f} meters\")\n",
        "\n",
        "        elif choose == \"weight\":\n",
        "            value = float(input(\"Enter the value: \"))\n",
        "            kg_to_pounds = value * 2.20462\n",
        "            pounds_to_kg = value * 0.453592\n",
        "            print(f\"{value} kg is {kg_to_pounds:.2f} lbs\")\n",
        "            print(f\"{value} lbs is {pounds_to_kg:.2f} kg\")\n",
        "\n",
        "        elif choose == \"volume\":\n",
        "            value = float(input(\"Enter the value: \"))\n",
        "            liters_to_gallons = value * 0.264172\n",
        "            gallons_to_liters = value * 3.78541\n",
        "            print(f\"{value} liters is {liters_to_gallons:.2f} gallons\")\n",
        "            print(f\"{value} gallons is {gallons_to_liters:.2f} liters\")\n",
        "\n",
        "        else:\n",
        "            print(\"Invalid choice. Please enter length, weight, or volume.\")\n",
        "\n",
        "    except ValueError:\n",
        "        print(\"Invalid input! Please enter a numeric value.\")\n",
        "\n",
        "# Run the function\n",
        "conversion()\n"
      ]
    },
    {
      "cell_type": "markdown",
      "metadata": {
        "id": "3wvy7Zoo2DpJ"
      },
      "source": [
        "## Create a Python program that performs various mathematical operations on list of numbers."
      ]
    },
    {
      "cell_type": "code",
      "execution_count": null,
      "metadata": {
        "colab": {
          "base_uri": "https://localhost:8080/"
        },
        "id": "U5Uv1dheHft8",
        "outputId": "ecf48e70-51f4-4939-b66d-5964bfe7daa7"
      },
      "outputs": [
        {
          "name": "stdout",
          "output_type": "stream",
          "text": [
            "Select an operation:\n",
            "1. Sum\n",
            "2. Average\n",
            "3. Maximum\n",
            "4. Minimum\n",
            "\n",
            "Enter your choice (1-4): 1\n",
            "\n",
            "Enter numbers separated by spaces: 10 20 30 40 50\n",
            "\n",
            "Result: 150.00\n"
          ]
        }
      ],
      "source": [
        "def sum_list(numbers):\n",
        "    \"\"\"Calculate the sum of a list of numbers.\n",
        "\n",
        "    Args:\n",
        "        numbers (list): A list of numeric values.\n",
        "\n",
        "    Returns:\n",
        "        float: The sum of the numbers.\n",
        "    \"\"\"\n",
        "    return sum(numbers)\n",
        "\n",
        "def average_list(numbers):\n",
        "    \"\"\"Calculate the average of a list of numbers.\n",
        "\n",
        "    Args:\n",
        "        numbers (list): A list of numeric values.\n",
        "\n",
        "    Returns:\n",
        "        float: The average of the numbers.\n",
        "    \"\"\"\n",
        "    return sum(numbers) / len(numbers)\n",
        "\n",
        "def maximum_list(numbers):\n",
        "    \"\"\"Find the maximum value in a list of numbers.\n",
        "\n",
        "    Args:\n",
        "        numbers (list): A list of numeric values.\n",
        "\n",
        "    Returns:\n",
        "        float: The maximum value in the list.\n",
        "    \"\"\"\n",
        "    return max(numbers)\n",
        "\n",
        "def minimum_list(numbers):\n",
        "    \"\"\"Find the minimum value in a list of numbers.\n",
        "\n",
        "    Args:\n",
        "        numbers (list): A list of numeric values.\n",
        "\n",
        "    Returns:\n",
        "        float: The minimum value in the list.\n",
        "    \"\"\"\n",
        "    return min(numbers)\n",
        "\n",
        "def main():\n",
        "    # Display operation menu\n",
        "    print(\"Select an operation:\")\n",
        "    print(\"1. Sum\")\n",
        "    print(\"2. Average\")\n",
        "    print(\"3. Maximum\")\n",
        "    print(\"4. Minimum\")\n",
        "\n",
        "    # Get operation choice\n",
        "    choice = input(\"\\nEnter your choice (1-4): \").strip()\n",
        "\n",
        "    # Validate operation choice\n",
        "    if choice not in ['1', '2', '3', '4']:\n",
        "        print(\"\\nError: Invalid operation selection.\")\n",
        "        return\n",
        "\n",
        "    # Get numbers input\n",
        "    try:\n",
        "        nums_input = input(\"\\nEnter numbers separated by spaces: \")\n",
        "        num_strings = nums_input.split()\n",
        "\n",
        "        if not num_strings:\n",
        "            raise ValueError(\"Empty list\")\n",
        "\n",
        "        numbers = [float(num) for num in num_strings]\n",
        "\n",
        "    except ValueError as e:\n",
        "        if str(e) == \"Empty list\":\n",
        "            print(\"\\nError: No numbers entered.\")\n",
        "        else:\n",
        "            print(\"\\nError: Non-numeric value detected.\")\n",
        "        return\n",
        "\n",
        "    # Perform selected operation\n",
        "    try:\n",
        "        if choice == '1':\n",
        "            result = sum_list(numbers)\n",
        "        elif choice == '2':\n",
        "            result = average_list(numbers)\n",
        "        elif choice == '3':\n",
        "            result = maximum_list(numbers)\n",
        "        elif choice == '4':\n",
        "            result = minimum_list(numbers)\n",
        "\n",
        "        # Display result with formatting\n",
        "        print(f\"\\nResult: {result:.2f}\")  # Rounded to 2 decimal places\n",
        "\n",
        "    except ZeroDivisionError:\n",
        "        print(\"\\nError: Cannot calculate average of an empty list.\")\n",
        "    except Exception as e:\n",
        "        print(f\"\\nAn unexpected error occurred: {e}\")\n",
        "\n",
        "main()"
      ]
    },
    {
      "cell_type": "markdown",
      "metadata": {
        "id": "lgkm4CJZMHM_"
      },
      "source": [
        "# 4.2 Exercise on List Manipulation"
      ]
    },
    {
      "cell_type": "markdown",
      "metadata": {
        "id": "4xSYMuxZMRlT"
      },
      "source": [
        "## 1. Write a Python function that extracts every other element from a list, starting from the first element."
      ]
    },
    {
      "cell_type": "code",
      "execution_count": null,
      "metadata": {
        "colab": {
          "base_uri": "https://localhost:8080/"
        },
        "id": "JHSy-on_Oqke",
        "outputId": "f3c39e45-5bd9-4438-e069-ca454838a3ca"
      },
      "outputs": [
        {
          "name": "stdout",
          "output_type": "stream",
          "text": [
            "Enter numbers separated by space: 1 2 3 4 5 6 \n",
            "Original list: [1, 2, 3, 4, 5, 6]\n",
            "New list:  [6, 4, 2]\n"
          ]
        }
      ],
      "source": [
        "def extract_every_other(lst):\n",
        "\n",
        "  return lst[::2]\n",
        "# Get user input, split it, and convert to integers\n",
        "user_input = list(map(int, input(\"Enter numbers separated by space: \").split()))\n",
        "\n",
        "print(\"Original list:\", user_input)\n",
        "\n",
        "new_list = extract_every_other(user_input)\n",
        "print(\"New list: \", new_list)\n",
        "\n",
        "\n"
      ]
    },
    {
      "cell_type": "markdown",
      "metadata": {
        "id": "5pXFS_hloJ68"
      },
      "source": [
        "## 2.  Write a Python function that returns a sublist from a given list, starting from a specified index and ending at another specified index."
      ]
    },
    {
      "cell_type": "code",
      "execution_count": null,
      "metadata": {
        "colab": {
          "base_uri": "https://localhost:8080/"
        },
        "id": "z0Ys9er7oDat",
        "outputId": "80f62a91-39f4-47f5-8e24-6edf2200ac79"
      },
      "outputs": [
        {
          "name": "stdout",
          "output_type": "stream",
          "text": [
            "Original list: [1, 2, 3, 4, 5, 6]\n",
            "Sublist: [3, 4, 5]\n"
          ]
        }
      ],
      "source": [
        "def get_sublist(lst, start, end):\n",
        "    return lst[start:end + 1]  # Slicing from start to end (inclusive)\n",
        "\n",
        "# Example usage\n",
        "input_list = [1, 2, 3, 4, 5, 6]\n",
        "start_index = 2\n",
        "end_index = 4\n",
        "\n",
        "print(\"Original list:\", input_list)\n",
        "sub_list = get_sublist(input_list, start_index, end_index)\n",
        "print(\"Sublist:\", sub_list)"
      ]
    },
    {
      "cell_type": "markdown",
      "metadata": {
        "id": "y-SKjbSFrJnC"
      },
      "source": [
        "## 3. Write a Python function that reverses a list using slicing."
      ]
    },
    {
      "cell_type": "code",
      "execution_count": null,
      "metadata": {
        "colab": {
          "base_uri": "https://localhost:8080/"
        },
        "id": "F_Eh6JgIrYKb",
        "outputId": "b1b758a1-9076-4cfb-9b76-d2c2c26d1d42"
      },
      "outputs": [
        {
          "name": "stdout",
          "output_type": "stream",
          "text": [
            "Original list: [1, 2, 3, 4, 5]\n",
            "Reverse list:  [5, 4, 3, 2, 1]\n"
          ]
        }
      ],
      "source": [
        "def reverse_list(lst):\n",
        "   return lst[::-1]\n",
        "input_list = [1, 2, 3, 4, 5]\n",
        "print(\"Original list:\", input_list)\n",
        "reverseList = reverse_list(input_list)\n",
        "print(\"Reverse list: \",reverseList)\n"
      ]
    },
    {
      "cell_type": "markdown",
      "metadata": {
        "id": "FNyKkzCCtUzV"
      },
      "source": [
        "## 4.  Remove the First and Last Elements\n",
        "\n",
        "\n",
        "\n"
      ]
    },
    {
      "cell_type": "code",
      "execution_count": null,
      "metadata": {
        "colab": {
          "base_uri": "https://localhost:8080/"
        },
        "id": "l7SfE2ZSteLP",
        "outputId": "6293a844-708a-4efc-885c-cbf0f05be525"
      },
      "outputs": [
        {
          "name": "stdout",
          "output_type": "stream",
          "text": [
            "Original List: [1, 2, 3, 4, 5]\n",
            "Output List: [2, 3, 4]\n"
          ]
        }
      ],
      "source": [
        "def remove_first_last(lst):\n",
        "    return lst[1:-1]  # Slicing to exclude the first and last elements\n",
        "\n",
        "# Example usage\n",
        "input_list = [1, 2, 3, 4, 5]\n",
        "print(\"Original List:\", input_list)\n",
        "output_list = remove_first_last(input_list)\n",
        "print(\"Output List:\", output_list)"
      ]
    },
    {
      "cell_type": "markdown",
      "metadata": {
        "id": "JyGrEh6hymhB"
      },
      "source": [
        "## 5. Write a Python function that extracts the first n elements from a list."
      ]
    },
    {
      "cell_type": "code",
      "execution_count": null,
      "metadata": {
        "colab": {
          "base_uri": "https://localhost:8080/"
        },
        "id": "7iyrsi22y5Hu",
        "outputId": "acd71716-297a-49c7-903e-6e442d26407a"
      },
      "outputs": [
        {
          "name": "stdout",
          "output_type": "stream",
          "text": [
            "Original list: [1, 2, 3, 4, 5, 6]\n",
            "Result: [1, 2, 3]\n"
          ]
        }
      ],
      "source": [
        "def get_first_n(lst, n):\n",
        "  return lst[:n]\n",
        "\n",
        "input_list = [1, 2, 3, 4, 5, 6]\n",
        "n = 3\n",
        "print(\"Original list:\", input_list)\n",
        "Output = get_first_n(input_list, n)\n",
        "print(\"First Element list:\", Output)"
      ]
    },
    {
      "cell_type": "markdown",
      "metadata": {
        "id": "_utooI8o1bzV"
      },
      "source": [
        "## 6. Write a Python function that extracts the last n elements of a list using slicing."
      ]
    },
    {
      "cell_type": "code",
      "execution_count": null,
      "metadata": {
        "colab": {
          "base_uri": "https://localhost:8080/"
        },
        "id": "VLUJ1Qhi13QM",
        "outputId": "811f1ce1-2e12-4c6e-ad2e-6fd55e6900e1"
      },
      "outputs": [
        {
          "name": "stdout",
          "output_type": "stream",
          "text": [
            "Original list: [1, 2, 3, 4, 5]\n",
            "Last Element list:  [4, 5]\n"
          ]
        }
      ],
      "source": [
        "def get_last_n(lst, n):\n",
        "  return lst[-n:]\n",
        "\n",
        "input_list = [1,2,3,4,5]\n",
        "n = 2\n",
        "print(\"Original list:\",input_list)\n",
        "Output = get_last_n(input_list,n)\n",
        "print(\"Last Element list: \",Output)"
      ]
    },
    {
      "cell_type": "markdown",
      "metadata": {
        "id": "Q1Yu9h1n4dWG"
      },
      "source": [
        "## 7. Write a Python function that extracts a list of elements in reverse order starting from the second-to-last element and skipping one element in between."
      ]
    },
    {
      "cell_type": "code",
      "execution_count": null,
      "metadata": {
        "colab": {
          "base_uri": "https://localhost:8080/"
        },
        "id": "AI_hgZu94zsD",
        "outputId": "548c844a-4392-4679-e3b8-8e8bd73e4428"
      },
      "outputs": [
        {
          "name": "stdout",
          "output_type": "stream",
          "text": [
            "Original list: [1, 2, 3, 4, 5, 6]\n",
            "Reverse skip list:  [5, 3, 1]\n"
          ]
        }
      ],
      "source": [
        "def reverse_skip(lst):\n",
        "  return lst[-2::-2]\n",
        "\n",
        "input_list = [1,2,3,4,5,6]\n",
        "\n",
        "print(\"Original list:\", input_list)\n",
        "\n",
        "new_list = reverse_skip(input_list)\n",
        "print(\"Reverse skip list: \", new_list)"
      ]
    },
    {
      "cell_type": "markdown",
      "metadata": {
        "id": "emx7vHmb75Kp"
      },
      "source": [
        "# 4.3 Exercise on Nested List"
      ]
    },
    {
      "cell_type": "markdown",
      "metadata": {
        "id": "Y7eo1DQb2QQ9"
      },
      "source": [
        "## 1. Write a Python function that takes a nested list and flattens it into a single list, where all the elements are in a single dimension."
      ]
    },
    {
      "cell_type": "code",
      "execution_count": null,
      "metadata": {
        "colab": {
          "base_uri": "https://localhost:8080/"
        },
        "id": "pPmTbmdZ78Sc",
        "outputId": "d91d1e7d-d010-4f4d-fbe2-04fef7192779"
      },
      "outputs": [
        {
          "name": "stdout",
          "output_type": "stream",
          "text": [
            "Original list: [[1, 2], [3, 4], [5]]\n",
            "Flattened list: [1, 2, 3, 4, 5]\n"
          ]
        }
      ],
      "source": [
        "def flatten(lst):\n",
        "    return [num for sublist in lst for num in sublist]  # Flatten the nested list\n",
        "\n",
        "input_list = [[1, 2], [3, 4], [5]]\n",
        "print(\"Original list:\", input_list)\n",
        "\n",
        "output_list = flatten(input_list)\n",
        "print(\"Flattened list:\", output_list)"
      ]
    },
    {
      "cell_type": "markdown",
      "metadata": {
        "id": "LRxRygxI6ghF"
      },
      "source": [
        "## 2. Write a Python function that extracts a specific element from a nested list given its indices.\n",
        "\n",
        "\n",
        "\n"
      ]
    },
    {
      "cell_type": "code",
      "execution_count": null,
      "metadata": {
        "colab": {
          "base_uri": "https://localhost:8080/"
        },
        "id": "84RE3fZP6u8u",
        "outputId": "1664932f-959a-4596-9919-942c3e3bd834"
      },
      "outputs": [
        {
          "name": "stdout",
          "output_type": "stream",
          "text": [
            "Original list: [[1, 2, 3], [4, 5, 6], [7, 8, 9]]\n",
            "Accessed element: 6\n"
          ]
        }
      ],
      "source": [
        "def access_nested_element(lst, indices):\n",
        "    element = lst  # Start with the original list\n",
        "    for index in indices:  # Iterate through the indices\n",
        "        element = element[index]  # Access the next level of the nested list\n",
        "    return element  # Return the final accessed element\n",
        "\n",
        "# Example usage\n",
        "lst = [[1, 2, 3], [4, 5, 6], [7, 8, 9]]\n",
        "indices = [1, 2]  # This should access lst[1][2], which is 6\n",
        "print(\"Original list:\", lst)\n",
        "\n",
        "output_element = access_nested_element(lst, indices)\n",
        "print(\"Accessed element:\", output_element)"
      ]
    },
    {
      "cell_type": "markdown",
      "metadata": {
        "id": "4BrBwoyt-V0f"
      },
      "source": [
        "## 3. Write a Python function that calculates the sum of all the numbers in a nested list (regardless of depth)."
      ]
    },
    {
      "cell_type": "code",
      "execution_count": null,
      "metadata": {
        "colab": {
          "base_uri": "https://localhost:8080/"
        },
        "id": "NLTtUN2Y-jvF",
        "outputId": "73a6ef09-9c50-4486-ecc7-2c7005039f2b"
      },
      "outputs": [
        {
          "name": "stdout",
          "output_type": "stream",
          "text": [
            "Sum of all elements: 21\n"
          ]
        }
      ],
      "source": [
        "def sum_nested(lst):\n",
        "    s = 0\n",
        "    for i in lst:\n",
        "        if isinstance(i, list):\n",
        "            s += sum_nested(i)  # Recursively sum the nested list\n",
        "        else:\n",
        "            s += i\n",
        "    return s\n",
        "\n",
        "# Example usage\n",
        "input_list = [[1, 2], [3, [4, 5]], 6]\n",
        "output_element = sum_nested(input_list)\n",
        "print(\"Sum of all elements:\", output_element)"
      ]
    },
    {
      "cell_type": "markdown",
      "metadata": {
        "id": "ywk_OlqW4rc3"
      },
      "source": [
        "## 4. Write a Python function that removes all occurrences of a specific element from a nested list."
      ]
    },
    {
      "cell_type": "code",
      "execution_count": null,
      "metadata": {
        "colab": {
          "base_uri": "https://localhost:8080/"
        },
        "id": "zYpGtJUl7_OW",
        "outputId": "e7800cb1-635e-4c58-d027-ab4a494510a5"
      },
      "outputs": [
        {
          "name": "stdout",
          "output_type": "stream",
          "text": [
            "Original list: [[1, 2], [3, 2], [4, 5]]\n",
            "Modified list: [[1], [3], [4, 5]]\n"
          ]
        }
      ],
      "source": [
        "def remove_element(lst, elem):\n",
        "    # Iterate through each sublist in the list\n",
        "    for sublist in lst:\n",
        "        # Remove all occurrences of elem in the sublist\n",
        "        while elem in sublist:\n",
        "            sublist.remove(elem)\n",
        "    return lst\n",
        "\n",
        "# Example usage\n",
        "lst = [[1, 2], [3, 2], [4, 5]]\n",
        "elem = 2\n",
        "\n",
        "print(\"Original list:\", lst)\n",
        "output = remove_element(lst, elem)\n",
        "print(\"Modified list:\", output)"
      ]
    },
    {
      "cell_type": "markdown",
      "metadata": {
        "id": "LjRMUcB8_Hu9"
      },
      "source": [
        "## 5. Write a Python function that finds the maximum element in a nested list (regardless of depth)."
      ]
    },
    {
      "cell_type": "code",
      "execution_count": null,
      "metadata": {
        "colab": {
          "base_uri": "https://localhost:8080/"
        },
        "id": "DTlqVGMI_vVm",
        "outputId": "66dc11d9-844b-4b71-94d9-462eee88c5f2"
      },
      "outputs": [
        {
          "name": "stdout",
          "output_type": "stream",
          "text": [
            "Original list: [[1, 2], [3, [4, 5]], 6]\n",
            "Maximum element: 6\n"
          ]
        }
      ],
      "source": [
        "def find_max(lst):\n",
        "    max_value = float('-inf')  # Start with the smallest possible value\n",
        "\n",
        "    for i in lst:\n",
        "        if isinstance(i, list):  # If the element is a list, recurse\n",
        "            max_value = max(max_value, find_max(i))\n",
        "        else:\n",
        "            max_value = max(max_value, i)  # Update max_value if the element is greater\n",
        "\n",
        "    return max_value\n",
        "\n",
        "# Example usage\n",
        "nested_list = [[1, 2], [3, [4, 5]], 6]\n",
        "print(\"Original list:\", nested_list)\n",
        "print(\"Maximum element:\", find_max(nested_list))\n"
      ]
    },
    {
      "cell_type": "markdown",
      "metadata": {
        "id": "AUtaaA15DvTq"
      },
      "source": [
        "## 6. Write a Python function that counts how many times a specific element appears in a nested list."
      ]
    },
    {
      "cell_type": "code",
      "execution_count": null,
      "metadata": {
        "colab": {
          "base_uri": "https://localhost:8080/"
        },
        "id": "kUyTHuKDD8rF",
        "outputId": "7df2b055-ff93-4b9d-8a2b-c23d433fc2f7"
      },
      "outputs": [
        {
          "name": "stdout",
          "output_type": "stream",
          "text": [
            "Original list: [[1, 2], [2, 3], [2, 4]]\n",
            "The count of number: 3\n"
          ]
        }
      ],
      "source": [
        "def count_occurrences(lst, elem):\n",
        "    count = 0\n",
        "    for item in lst:\n",
        "        if isinstance(item, list):  # If item is a list, recursively count occurrences\n",
        "            count += count_occurrences(item, elem)\n",
        "        elif item == elem:  # If item is the element we are looking for, increase count\n",
        "            count += 1\n",
        "    return count\n",
        "\n",
        "lst = [[1, 2], [2, 3], [2, 4]]\n",
        "elem = 2\n",
        "\n",
        "print(\"Original list:\", lst)\n",
        "output = count_occurrences(lst, elem)\n",
        "print(\"The count of number:\", output)\n"
      ]
    },
    {
      "cell_type": "markdown",
      "metadata": {
        "id": "GU4DOLg-GImO"
      },
      "source": [
        "## 7. Write a Python function that flattens a list of lists of lists into a single list, regardless of the depth."
      ]
    },
    {
      "cell_type": "code",
      "execution_count": null,
      "metadata": {
        "colab": {
          "base_uri": "https://localhost:8080/"
        },
        "id": "wj1FnVmFGQQM",
        "outputId": "0a6b7272-f742-4d11-83a9-a74d90fa3534"
      },
      "outputs": [
        {
          "name": "stdout",
          "output_type": "stream",
          "text": [
            "Original list: [[[1, 2], [3, 4]], [[5, 6], [7, 8]]]\n",
            "A single flattened list: [1, 2, 3, 4, 5, 6, 7, 8]\n"
          ]
        }
      ],
      "source": [
        "def deep_flatten(lst):\n",
        "    single_list = []  # Create a new list inside the function to avoid global state issues\n",
        "\n",
        "    def flatten(elements):\n",
        "        for element in elements:\n",
        "            if isinstance(element, list):\n",
        "                flatten(element)  # Recursively flatten nested lists\n",
        "            else:\n",
        "                single_list.append(element)  # Append non-list elements\n",
        "\n",
        "    flatten(lst)\n",
        "    return single_list\n",
        "\n",
        "# Test input\n",
        "input_list = [[[1, 2], [3, 4]], [[5, 6], [7, 8]]]\n",
        "print(\"Original list:\", input_list)\n",
        "output = deep_flatten(input_list)\n",
        "print(\"A single flattened list:\", output)\n"
      ]
    },
    {
      "cell_type": "markdown",
      "metadata": {
        "id": "Zv2AAFrdI8Bk"
      },
      "source": [
        "## 8. Write a Python function that calculates the average of all elements in a nested list."
      ]
    },
    {
      "cell_type": "code",
      "execution_count": null,
      "metadata": {
        "colab": {
          "base_uri": "https://localhost:8080/"
        },
        "id": "yFZLAIfUJP3l",
        "outputId": "3e01b1eb-866a-4f98-e37f-89d2d219d1dc"
      },
      "outputs": [
        {
          "name": "stdout",
          "output_type": "stream",
          "text": [
            "Original list: [[1, 2], [3, 4], [5, 6]]\n",
            "Average number: 3.5\n"
          ]
        }
      ],
      "source": [
        "def average_nested(lst):\n",
        "    def flatten(nested):\n",
        "        flat_list = []\n",
        "        for item in nested:\n",
        "            if isinstance(item, list):\n",
        "                flat_list.extend(flatten(item))\n",
        "            else:\n",
        "                flat_list.append(item)\n",
        "        return flat_list\n",
        "\n",
        "    flat_numbers = flatten(lst)  # Extract all numbers from nested lists\n",
        "    return sum(flat_numbers) / len(flat_numbers) if flat_numbers else 0\n",
        "\n",
        "nested_list = [[1, 2], [3, 4], [5 , 6]]\n",
        "print(\"Original list:\", nested_list)\n",
        "output = average_nested(nested_list)\n",
        "print(\"Average number:\", output)\n"
      ]
    },
    {
      "cell_type": "markdown",
      "metadata": {
        "id": "4NgwQrTMN5Xk"
      },
      "source": [
        "# 10.1 Basic Vector and Matrix Operation with Numpy."
      ]
    },
    {
      "cell_type": "markdown",
      "metadata": {
        "id": "vKnHQOunOVcd"
      },
      "source": [
        "## Problem - 1: Array Creation"
      ]
    },
    {
      "cell_type": "markdown",
      "metadata": {
        "id": "oI9IRKBCOcUS"
      },
      "source": [
        "### 1. Initialize an empty array with size 2X2."
      ]
    },
    {
      "cell_type": "code",
      "execution_count": null,
      "metadata": {
        "colab": {
          "base_uri": "https://localhost:8080/"
        },
        "id": "F-CmxpJJOywa",
        "outputId": "75e19e14-1f46-4c17-b8fe-bab7d6d979d5"
      },
      "outputs": [
        {
          "name": "stdout",
          "output_type": "stream",
          "text": [
            "[[3.1610884e-316 0.0000000e+000]\n",
            " [0.0000000e+000 0.0000000e+000]]\n"
          ]
        }
      ],
      "source": [
        "import numpy as np\n",
        "\n",
        "# Initialize an empty 2x2 array\n",
        "array_2d = np.empty((2, 2))\n",
        "\n",
        "# Print the array\n",
        "print(array_2d)\n"
      ]
    },
    {
      "cell_type": "markdown",
      "metadata": {
        "id": "glhGzIjcQbtN"
      },
      "source": [
        "### 2. Initialize an all one array with size 4X2."
      ]
    },
    {
      "cell_type": "code",
      "execution_count": null,
      "metadata": {
        "colab": {
          "base_uri": "https://localhost:8080/"
        },
        "id": "NdQAG2TjQ-XT",
        "outputId": "0c23c825-995e-4b6f-950f-9382751dbd75"
      },
      "outputs": [
        {
          "name": "stdout",
          "output_type": "stream",
          "text": [
            "[[1. 1.]\n",
            " [1. 1.]\n",
            " [1. 1.]\n",
            " [1. 1.]]\n"
          ]
        }
      ],
      "source": [
        "import numpy as np\n",
        "\n",
        "# Create a 4x2 array of ones\n",
        "one_array = np.ones((4, 2))\n",
        "\n",
        "# Print the array\n",
        "print(one_array)\n"
      ]
    },
    {
      "cell_type": "markdown",
      "metadata": {
        "id": "grWKzKEzRqhg"
      },
      "source": [
        "### 3. Return a new array of given shape and type, filled with fill value.{Hint: np.full}"
      ]
    },
    {
      "cell_type": "code",
      "execution_count": null,
      "metadata": {
        "colab": {
          "base_uri": "https://localhost:8080/"
        },
        "id": "rCMzzZmcR_qL",
        "outputId": "6869494f-09bd-4ce7-8410-0f70e528e4cb"
      },
      "outputs": [
        {
          "name": "stdout",
          "output_type": "stream",
          "text": [
            "Array:\n",
            " [[111 111 111 111 111]\n",
            " [111 111 111 111 111]\n",
            " [111 111 111 111 111]\n",
            " [111 111 111 111 111]]\n",
            "Array datatype: int64\n",
            "Array Dimensions: 2\n",
            "Array Shape: (4, 5)\n",
            "Total Elements in the Array: 20\n"
          ]
        }
      ],
      "source": [
        "import numpy as np\n",
        "\n",
        "# Create a 4x5 array filled with 111, with integer type\n",
        "arr = np.full((4, 5), fill_value=111, dtype=int)\n",
        "\n",
        "# Display the array\n",
        "print(\"Array:\\n\", arr)\n",
        "\n",
        "# Get and display the datatype of the array\n",
        "print(\"Array datatype:\", arr.dtype)\n",
        "\n",
        "# Get and display the dimensions of the array\n",
        "print(\"Array Dimensions:\", arr.ndim)\n",
        "\n",
        "# Get and display the shape of the array\n",
        "print(\"Array Shape:\", arr.shape)\n",
        "\n",
        "# Get and display the total number of elements in the array\n",
        "print(\"Total Elements in the Array:\", arr.size)\n"
      ]
    },
    {
      "cell_type": "markdown",
      "metadata": {
        "id": "M5RJZG_hTSLL"
      },
      "source": [
        "### 4. Return a new array of zeros with same shape and type as a given array.{Hint: np.zeros like}"
      ]
    },
    {
      "cell_type": "code",
      "execution_count": null,
      "metadata": {
        "colab": {
          "base_uri": "https://localhost:8080/"
        },
        "id": "ifumMhJJTZeB",
        "outputId": "fddf1bf5-cb33-4c4b-9e9a-5c6224147738"
      },
      "outputs": [
        {
          "name": "stdout",
          "output_type": "stream",
          "text": [
            "Array:\n",
            " [[0 0 0]\n",
            " [0 0 0]\n",
            " [0 0 0]]\n",
            "Array datatype: int64\n",
            "Array Dimensions: 2\n",
            "Array Shape: (3, 3)\n",
            "Total Elements in the Array: 9\n"
          ]
        }
      ],
      "source": [
        "import numpy as np\n",
        "\n",
        "# Define an existing array\n",
        "given_array = np.array([[1, 2, 3], [4, 5, 6], [7, 8, 9]])\n",
        "\n",
        "# Create a new array of zeros with the same shape and type as the given array\n",
        "arr = np.zeros_like(given_array)\n",
        "\n",
        "# Display the array\n",
        "print(\"Array:\\n\", arr)\n",
        "\n",
        "# Get and display the datatype of the array\n",
        "print(\"Array datatype:\", arr.dtype)\n",
        "\n",
        "# Get and display the dimensions of the array\n",
        "print(\"Array Dimensions:\", arr.ndim)\n",
        "\n",
        "# Get and display the shape of the array\n",
        "print(\"Array Shape:\", arr.shape)\n",
        "\n",
        "# Get and display the total number of elements in the array\n",
        "print(\"Total Elements in the Array:\", arr.size)\n"
      ]
    },
    {
      "cell_type": "markdown",
      "metadata": {
        "id": "8cfMemBtUwuw"
      },
      "source": [
        "### 5. Return a new array of ones with same shape and type as a given array.{Hint: np.ones like}"
      ]
    },
    {
      "cell_type": "code",
      "execution_count": null,
      "metadata": {
        "colab": {
          "base_uri": "https://localhost:8080/"
        },
        "id": "xJOLwKz_U3XC",
        "outputId": "f3f63979-28a8-449f-b712-bb305497d307"
      },
      "outputs": [
        {
          "name": "stdout",
          "output_type": "stream",
          "text": [
            "Array:\n",
            " [[1 1 1]\n",
            " [1 1 1]\n",
            " [1 1 1]]\n",
            "Array datatype: int64\n",
            "Array Dimensions: 2\n",
            "Array Shape: (3, 3)\n",
            "Total Elements in the Array: 9\n"
          ]
        }
      ],
      "source": [
        "import numpy as np\n",
        "\n",
        "# Define an existing array\n",
        "given_array = np.array([[1, 2, 3], [4, 5, 6], [7, 8, 9]])\n",
        "\n",
        "# Create a new array of ones with the same shape and type as the given array\n",
        "arr = np.ones_like(given_array)\n",
        "\n",
        "# Display the array\n",
        "print(\"Array:\\n\", arr)\n",
        "\n",
        "# Get and display the datatype of the array\n",
        "print(\"Array datatype:\", arr.dtype)\n",
        "\n",
        "# Get and display the dimensions of the array\n",
        "print(\"Array Dimensions:\", arr.ndim)\n",
        "\n",
        "# Get and display the shape of the array\n",
        "print(\"Array Shape:\", arr.shape)\n",
        "\n",
        "# Get and display the total number of elements in the array\n",
        "print(\"Total Elements in the Array:\", arr.size)\n"
      ]
    },
    {
      "cell_type": "markdown",
      "metadata": {
        "id": "KZRLjSuwVeOT"
      },
      "source": [
        "### 6. For an existing list new_list = [1,2,3,4] convert to an numpy array.{Hint: np.array()}"
      ]
    },
    {
      "cell_type": "code",
      "execution_count": null,
      "metadata": {
        "colab": {
          "base_uri": "https://localhost:8080/"
        },
        "id": "fqOup27OVzx_",
        "outputId": "4a95b74c-23a2-489c-ec0b-f982a1688a61"
      },
      "outputs": [
        {
          "name": "stdout",
          "output_type": "stream",
          "text": [
            "Numpy Array:  [1 2 3 4]\n"
          ]
        }
      ],
      "source": [
        "import numpy as np\n",
        "\n",
        "new_list = [1, 2, 3, 4]\n",
        "\n",
        "# Convert the list to a NumPy array\n",
        "arr = np.array(new_list)\n",
        "\n",
        "print(\"Numpy Array: \",arr)"
      ]
    },
    {
      "cell_type": "markdown",
      "metadata": {
        "id": "DnbuAAKCWkKy"
      },
      "source": [
        "## Problem - 2: Array Manipulation: Numerical Ranges and Array indexing"
      ]
    },
    {
      "cell_type": "markdown",
      "metadata": {
        "id": "OtZwhQ7uW1AD"
      },
      "source": [
        "### 1. Create an array with values ranging from 10 to 49. {Hint:np.arrange()}."
      ]
    },
    {
      "cell_type": "code",
      "execution_count": null,
      "metadata": {
        "colab": {
          "base_uri": "https://localhost:8080/"
        },
        "id": "v6LrUXlGWtQ5",
        "outputId": "9195cdf2-37e2-48d6-f5f2-8257769b416b"
      },
      "outputs": [
        {
          "name": "stdout",
          "output_type": "stream",
          "text": [
            "Array from 10 to 49:\n",
            "[10 11 12 13 14 15 16 17 18 19 20 21 22 23 24 25 26 27 28 29 30 31 32 33\n",
            " 34 35 36 37 38 39 40 41 42 43 44 45 46 47 48 49]\n"
          ]
        }
      ],
      "source": [
        "# Importing the NumPy library with an alias 'np'\n",
        "import numpy as np\n",
        "\n",
        "# Creating an array from 10 to 49 using arange\n",
        "x = np.arange(10, 50) # 50 is the stop value, which is excluded\n",
        "\n",
        "# Printing the array from 10 to 49\n",
        "print(\"Array from 10 to 49:\")\n",
        "print(x)\n"
      ]
    },
    {
      "cell_type": "markdown",
      "metadata": {
        "id": "a4_vIpwnYABo"
      },
      "source": [
        "### 3. Create a 3X3 matrix with values ranging from 0 to 8. {Hint:look for np.reshape()}"
      ]
    },
    {
      "cell_type": "code",
      "execution_count": null,
      "metadata": {
        "colab": {
          "base_uri": "https://localhost:8080/"
        },
        "id": "a_tBEgHKYC6R",
        "outputId": "3eedcff4-b917-420e-fe68-801df8fb90fd"
      },
      "outputs": [
        {
          "name": "stdout",
          "output_type": "stream",
          "text": [
            "3x3 matrix:\n",
            "[[0 1 2]\n",
            " [3 4 5]\n",
            " [6 7 8]]\n"
          ]
        }
      ],
      "source": [
        "# Importing the NumPy library with an alias 'np'\n",
        "import numpy as np\n",
        "\n",
        "# Creating a 3x3 matrix with values ranging from 0 to 8\n",
        "x = np.arange(9).reshape(3, 3)\n",
        "\n",
        "# Printing a message indicating a 3x3 matrix\n",
        "print('3x3 matrix:')\n",
        "\n",
        "# Printing the resulting 3x3 matrix 'x'\n",
        "print(x)\n"
      ]
    },
    {
      "cell_type": "markdown",
      "metadata": {
        "id": "iSjEE0jFZAFA"
      },
      "source": [
        "### 4. Create a 3X3 identity matrix.{Hint:np.eye()}"
      ]
    },
    {
      "cell_type": "code",
      "execution_count": null,
      "metadata": {
        "colab": {
          "base_uri": "https://localhost:8080/"
        },
        "id": "QOy--K-4ZEcU",
        "outputId": "ac85dbc4-31b5-420c-8271-8e83682f9b76"
      },
      "outputs": [
        {
          "name": "stdout",
          "output_type": "stream",
          "text": [
            "3x3 identity matrix:\n",
            "[[1. 0. 0.]\n",
            " [0. 1. 0.]\n",
            " [0. 0. 1.]]\n"
          ]
        }
      ],
      "source": [
        "# Importing the NumPy library with an alias 'np'\n",
        "import numpy as np\n",
        "\n",
        "identity_matrix = np.eye(3)\n",
        "\n",
        "# Printing a message indicating a 3x3 matrix\n",
        "print('3x3 identity matrix:')\n",
        "\n",
        "print(identity_matrix)"
      ]
    },
    {
      "cell_type": "markdown",
      "metadata": {
        "id": "PJ2qPVRRaIdZ"
      },
      "source": [
        "### 5. Create a random array of size 30 and find the mean of the array.{Hint:check for np.random.random() and array.mean() function}"
      ]
    },
    {
      "cell_type": "code",
      "execution_count": null,
      "metadata": {
        "colab": {
          "base_uri": "https://localhost:8080/"
        },
        "id": "5KNHycE6aQZt",
        "outputId": "4f0056f1-43a2-4117-efca-357fca5f9bfa"
      },
      "outputs": [
        {
          "name": "stdout",
          "output_type": "stream",
          "text": [
            "[6.97290120e-01 8.21237418e-02 2.77552875e-01 1.67051031e-01\n",
            " 5.63573406e-01 1.54898388e-01 3.50568634e-02 5.77132399e-01\n",
            " 5.45015202e-01 5.03113786e-01 1.75012253e-01 8.79959324e-02\n",
            " 9.95691769e-01 3.75621779e-01 2.69901642e-01 6.28932762e-01\n",
            " 9.44968788e-01 9.52347092e-01 7.29435298e-01 1.94054676e-01\n",
            " 3.47669260e-01 3.45621108e-01 8.55812873e-01 2.53757968e-01\n",
            " 4.78692408e-01 4.52122357e-01 3.48517185e-01 8.79089316e-01\n",
            " 4.36656604e-01 2.68903780e-04]\n",
            "0.4451659262574019\n"
          ]
        }
      ],
      "source": [
        "import numpy as np  # Import numpy as np\n",
        "\n",
        "x = np.random.random(30)  # Create a random array of size 30\n",
        "y = x.mean()  # Find the mean of the array\n",
        "\n",
        "print(x)  # Print the array\n",
        "print(y)  # Print the mean value\n"
      ]
    },
    {
      "cell_type": "markdown",
      "metadata": {
        "id": "i7j4TW2ucD_x"
      },
      "source": [
        "### 6. Create a 10X10 array with random values and find the minimum and maximum values."
      ]
    },
    {
      "cell_type": "code",
      "execution_count": null,
      "metadata": {
        "colab": {
          "base_uri": "https://localhost:8080/"
        },
        "id": "Pid_6twlcM6T",
        "outputId": "7275c7e6-1cb3-4ed7-ee41-bd0af984a05b"
      },
      "outputs": [
        {
          "name": "stdout",
          "output_type": "stream",
          "text": [
            "10x10 array:\n",
            " [[0.35978938 0.9246664  0.74562211 0.65601409 0.47770443 0.59003462\n",
            "  0.26528251 0.64785994 0.18810346 0.41354717]\n",
            " [0.13373349 0.1506474  0.4139776  0.70407649 0.18075389 0.97333739\n",
            "  0.84140011 0.68787862 0.09030791 0.15805267]\n",
            " [0.63376478 0.31474659 0.54372008 0.02695311 0.72170595 0.55162915\n",
            "  0.13353351 0.82208835 0.19398282 0.93600724]\n",
            " [0.07826575 0.26967345 0.07893399 0.24443846 0.08849485 0.27805835\n",
            "  0.27244073 0.80618861 0.02579852 0.0834442 ]\n",
            " [0.58087981 0.99767261 0.80014353 0.97744647 0.31471289 0.13726012\n",
            "  0.80593407 0.3327009  0.74315712 0.9905098 ]\n",
            " [0.51933528 0.85436089 0.61327974 0.39882796 0.56084236 0.76040211\n",
            "  0.21079635 0.1172837  0.12052192 0.86391247]\n",
            " [0.19738056 0.47506481 0.16602911 0.09674118 0.4539418  0.54435861\n",
            "  0.06144753 0.14987079 0.05187105 0.24965641]\n",
            " [0.64504681 0.64971771 0.65811765 0.43931123 0.09604248 0.4742803\n",
            "  0.75443963 0.92815463 0.26721442 0.90640561]\n",
            " [0.62594035 0.67631312 0.52814263 0.4665106  0.40063137 0.9077268\n",
            "  0.42617501 0.28072906 0.5050192  0.51572022]\n",
            " [0.64726774 0.19778273 0.03370798 0.9575904  0.46954442 0.81472563\n",
            "  0.30131702 0.65414604 0.59096851 0.50391381]]\n",
            "Minimum Value:\n",
            " 0.025798519944373766\n",
            "Maximum Value:\n",
            " 0.9976726144201319\n"
          ]
        }
      ],
      "source": [
        "# importing numpy library\n",
        "import numpy as np\n",
        "\n",
        "# creating numpy array\n",
        "arr = np.random.random((10,10))\n",
        "\n",
        "# finding minimum value of an array\n",
        "min_val = np.amin(arr)\n",
        "\n",
        "# finding maximum value of an array\n",
        "max_val = np.amax(arr)\n",
        "\n",
        "# printing values\n",
        "print(\"10x10 array:\\n\",arr)\n",
        "print(\"Minimum Value:\\n\",min_val)\n",
        "print(\"Maximum Value:\\n\",max_val)"
      ]
    },
    {
      "cell_type": "markdown",
      "metadata": {
        "id": "iLFg5fQDeVyr"
      },
      "source": [
        "### 7. Create a zero array of size 10 and replace 5th element with 1."
      ]
    },
    {
      "cell_type": "code",
      "execution_count": null,
      "metadata": {
        "colab": {
          "base_uri": "https://localhost:8080/"
        },
        "id": "1cpQFMOIesvE",
        "outputId": "49775ece-da42-441f-f824-de4af4e0c28a"
      },
      "outputs": [
        {
          "name": "stdout",
          "output_type": "stream",
          "text": [
            "An arr of 10 zeros:\n",
            "[0. 0. 0. 0. 0. 1. 0. 0. 0. 0.]\n"
          ]
        }
      ],
      "source": [
        "# Importing the NumPy library with an alias 'np'\n",
        "import numpy as np\n",
        "\n",
        "# Creating an arr of 10 zeros using np.zeros()\n",
        "arr = np.zeros(10)\n",
        "arr[5] = 1\n",
        "\n",
        "# Printing a message indicating an arr of 10 zeros\n",
        "print(\"An arr of 10 zeros:\")\n",
        "\n",
        "# Printing the arr of 10 zeros\n",
        "print(arr)"
      ]
    },
    {
      "cell_type": "markdown",
      "metadata": {
        "id": "vupyvSt1gp1n"
      },
      "source": [
        "### 8. Reverse an array arr = [1,2,0,0,4,0]."
      ]
    },
    {
      "cell_type": "code",
      "execution_count": null,
      "metadata": {
        "colab": {
          "base_uri": "https://localhost:8080/"
        },
        "id": "X36UIhtOg5Pa",
        "outputId": "80d4e20c-e237-4964-9be3-ef5cce3258f0"
      },
      "outputs": [
        {
          "name": "stdout",
          "output_type": "stream",
          "text": [
            "Orginal Array: [1, 2, 0, 0, 4, 0]\n",
            "Reverse array: [0 4 0 0 2 1]\n"
          ]
        }
      ],
      "source": [
        "# Importing the NumPy library with an alias 'np'\n",
        "import numpy as np\n",
        "\n",
        "arr =  [1,2,0,0,4,0]\n",
        "print(\"Orginal Array:\",arr)\n",
        "\n",
        "# using shortcut method to reverse\n",
        "res = np.flip(arr)\n",
        "\n",
        "# printing result\n",
        "print(\"Reverse array:\",res)\n"
      ]
    },
    {
      "cell_type": "markdown",
      "metadata": {
        "id": "lyu1_DL8ikGp"
      },
      "source": [
        "### 9. Create a 2d array with 1 on border and 0 inside."
      ]
    },
    {
      "cell_type": "code",
      "execution_count": null,
      "metadata": {
        "colab": {
          "base_uri": "https://localhost:8080/"
        },
        "id": "sI8pPHV5kESi",
        "outputId": "96935b38-054e-4ad9-8b07-7f71cb22ff99"
      },
      "outputs": [
        {
          "name": "stdout",
          "output_type": "stream",
          "text": [
            "2D Array:\n",
            " [[1. 1. 1. 1. 1.]\n",
            " [1. 1. 1. 1. 1.]\n",
            " [1. 1. 1. 1. 1.]\n",
            " [1. 1. 1. 1. 1.]\n",
            " [1. 1. 1. 1. 1.]]\n",
            "1 Border and 0 inside:\n",
            " [[1. 1. 1. 1. 1.]\n",
            " [1. 0. 0. 0. 1.]\n",
            " [1. 0. 0. 0. 1.]\n",
            " [1. 0. 0. 0. 1.]\n",
            " [1. 1. 1. 1. 1.]]\n"
          ]
        }
      ],
      "source": [
        "import numpy as np\n",
        "arr = np.ones((5,5))\n",
        "print(\"2D Array:\\n\",arr)\n",
        "arr[1:-1, 1:-1] = 0\n",
        "print(\"1 Border and 0 inside:\\n\",arr)"
      ]
    },
    {
      "cell_type": "markdown",
      "metadata": {
        "id": "GDD4LjvqoFft"
      },
      "source": [
        "### 9. Create a 8X8 matrix and fill it with a checkerboard pattern."
      ]
    },
    {
      "cell_type": "code",
      "execution_count": null,
      "metadata": {
        "colab": {
          "base_uri": "https://localhost:8080/"
        },
        "id": "DEEaGiUEogTm",
        "outputId": "8ee29170-a1f3-4826-970a-19e317911639"
      },
      "outputs": [
        {
          "name": "stdout",
          "output_type": "stream",
          "text": [
            "Checkerboard pattern:\n",
            "[[0 1 0 1 0 1 0 1]\n",
            " [1 0 1 0 1 0 1 0]\n",
            " [0 1 0 1 0 1 0 1]\n",
            " [1 0 1 0 1 0 1 0]\n",
            " [0 1 0 1 0 1 0 1]\n",
            " [1 0 1 0 1 0 1 0]\n",
            " [0 1 0 1 0 1 0 1]\n",
            " [1 0 1 0 1 0 1 0]]\n"
          ]
        }
      ],
      "source": [
        "import numpy as np\n",
        "\n",
        "# Creating an 8x8 matrix filled with zeros\n",
        "x = np.zeros((8, 8), dtype=int)\n",
        "\n",
        "# Filling the checkerboard pattern\n",
        "x[1::2, ::2] = 1  # Set alternate elements starting from row 1\n",
        "x[::2, 1::2] = 1  # Set alternate elements starting from row 0\n",
        "\n",
        "# Printing the resulting checkerboard pattern\n",
        "print(\"Checkerboard pattern:\")\n",
        "print(x)\n"
      ]
    },
    {
      "cell_type": "markdown",
      "metadata": {
        "id": "7inQSe8kprnE"
      },
      "source": [
        "## Problem - 3: Array Operations:"
      ]
    },
    {
      "cell_type": "markdown",
      "metadata": {
        "id": "EM-9_8C7qEMD"
      },
      "source": [
        "### 1. Add the two array."
      ]
    },
    {
      "cell_type": "code",
      "execution_count": null,
      "metadata": {
        "colab": {
          "base_uri": "https://localhost:8080/"
        },
        "id": "72JQ-hV4qHsM",
        "outputId": "f4f24069-cc45-4e92-e1bf-6606d7564d68"
      },
      "outputs": [
        {
          "name": "stdout",
          "output_type": "stream",
          "text": [
            "Add the two array:\n",
            " [[ 6  8]\n",
            " [10 13]]\n"
          ]
        }
      ],
      "source": [
        "import numpy as np\n",
        "x = np.array([[1,2],[3,5]])\n",
        "y = np.array([[5,6],[7,8]])\n",
        "result = x + y\n",
        "\n",
        "print(\"Add the two array:\\n\",result)"
      ]
    },
    {
      "cell_type": "markdown",
      "metadata": {
        "id": "74aFuqW2r5b4"
      },
      "source": [
        "### 2. Subtract the two array."
      ]
    },
    {
      "cell_type": "code",
      "execution_count": null,
      "metadata": {
        "colab": {
          "base_uri": "https://localhost:8080/"
        },
        "id": "UlY5IzSisBpO",
        "outputId": "b6608793-0c55-4f7e-f391-42b213fd9f5a"
      },
      "outputs": [
        {
          "name": "stdout",
          "output_type": "stream",
          "text": [
            "Subtract the two array:\n",
            " [[4 4]\n",
            " [4 3]]\n"
          ]
        }
      ],
      "source": [
        "import numpy as np\n",
        "x = np.array([[5,6],[7,8]])\n",
        "y = np.array([[1,2],[3,5]])\n",
        "result = x - y\n",
        "\n",
        "print(\"Subtract the two array:\\n\",result)"
      ]
    },
    {
      "cell_type": "markdown",
      "metadata": {
        "id": "t1bwm92xsaZF"
      },
      "source": [
        "### 3. Multiply the array with any integers of your choice."
      ]
    },
    {
      "cell_type": "code",
      "execution_count": null,
      "metadata": {
        "colab": {
          "base_uri": "https://localhost:8080/"
        },
        "id": "nLu9S5F8sq6V",
        "outputId": "b7e70b6e-a7d6-4c79-94db-b4b3d53d5048"
      },
      "outputs": [
        {
          "name": "stdout",
          "output_type": "stream",
          "text": [
            " Multiply the array:\n",
            " [ 4 10 18]\n"
          ]
        }
      ],
      "source": [
        "import numpy as np\n",
        "\n",
        "array1 = np.array([1, 2, 3])\n",
        "array2 = np.array([4, 5, 6])\n",
        "\n",
        "# perform element-wise multiplication between array1 and array2\n",
        "result = np.multiply(array1, array2)\n",
        "\n",
        "print(\" Multiply the array:\\n\",result)\n"
      ]
    },
    {
      "cell_type": "markdown",
      "metadata": {
        "id": "kXZUaAT5tK29"
      },
      "source": [
        "### 4. Find the square of each element of the array."
      ]
    },
    {
      "cell_type": "code",
      "execution_count": null,
      "metadata": {
        "colab": {
          "base_uri": "https://localhost:8080/"
        },
        "id": "KEmMpQb3tUUp",
        "outputId": "57abbdc1-5394-4679-cf10-efaaf2608922"
      },
      "outputs": [
        {
          "name": "stdout",
          "output_type": "stream",
          "text": [
            "Square Number:\n",
            " [ 4 16 25 36]\n"
          ]
        }
      ],
      "source": [
        "import numpy as np\n",
        "\n",
        "array1 = np.array([2, 4, 5, 6])\n",
        "\n",
        "# compute square root of each element in array1\n",
        "result = np.square(array1)\n",
        "\n",
        "print(\"Square Number:\\n\",result)"
      ]
    },
    {
      "cell_type": "markdown",
      "metadata": {
        "id": "q4FPMLxouCTS"
      },
      "source": [
        "### 5. Find the dot product between: v(and)w ; x(and)v ; x(and)y."
      ]
    },
    {
      "cell_type": "code",
      "execution_count": null,
      "metadata": {
        "colab": {
          "base_uri": "https://localhost:8080/"
        },
        "id": "CP8xNYo4uRZY",
        "outputId": "dcf086b1-eb83-4d9e-c32e-f9fa150fd92e"
      },
      "outputs": [
        {
          "name": "stdout",
          "output_type": "stream",
          "text": [
            "Dot product of v and w: 32\n",
            "Dot product of x and v: 50\n",
            "Dot product of x and y: 266\n"
          ]
        }
      ],
      "source": [
        "import numpy as np\n",
        "\n",
        "# Defining vectors\n",
        "v = np.array([1, 2, 3])\n",
        "w = np.array([4, 5, 6])\n",
        "x = np.array([7, 8, 9])\n",
        "y = np.array([10, 11, 12])\n",
        "\n",
        "# Dot product calculations\n",
        "dot_vw = np.dot(v, w)  # Dot product of v and w\n",
        "dot_xv = np.dot(x, v)  # Dot product of x and v\n",
        "dot_xy = np.dot(x, y)  # Dot product of x and y\n",
        "\n",
        "# Printing results\n",
        "print(\"Dot product of v and w:\", dot_vw)\n",
        "print(\"Dot product of x and v:\", dot_xv)\n",
        "print(\"Dot product of x and y:\", dot_xy)\n"
      ]
    },
    {
      "cell_type": "markdown",
      "metadata": {
        "id": "CEQb4jicu_Sf"
      },
      "source": [
        "### 6. Concatenate x(and)y along row and Concatenate v(and)w along column.{Hint:try np.concatenate() or np.vstack() functions."
      ]
    },
    {
      "cell_type": "code",
      "execution_count": null,
      "metadata": {
        "colab": {
          "base_uri": "https://localhost:8080/"
        },
        "id": "phvlw6K5vcet",
        "outputId": "84783daa-261a-4a6c-df2d-0f953d6626f0"
      },
      "outputs": [
        {
          "name": "stdout",
          "output_type": "stream",
          "text": [
            "Stacking x and y along rows:\n",
            " [[0 1]\n",
            " [2 1]]\n",
            "Concatenating v and w along columns:\n",
            " [[-1  4]\n",
            " [-1 -8]]\n"
          ]
        }
      ],
      "source": [
        "import numpy as np\n",
        "\n",
        "x = np.array((0, 1))\n",
        "y = np.array((2, 1))\n",
        "v = np.array((-1, -1))\n",
        "w = np.array((4, -8))\n",
        "\n",
        "# Stacking x and y along rows\n",
        "arr = np.vstack((x, y))  # Correct for concatenating x and y along rows\n",
        "print(\"Stacking x and y along rows:\\n\", arr)\n",
        "\n",
        "# Concatenating v and w along columns\n",
        "arr2 = np.column_stack((v, w))  # Correct for concatenating v and w along columns\n",
        "print(\"Concatenating v and w along columns:\\n \", arr2)\n"
      ]
    },
    {
      "cell_type": "markdown",
      "metadata": {
        "id": "K77pXcbaw6nY"
      },
      "source": [
        "### 7. Concatenate x(and)v; if you get an error, observe and explain why did you get the error?"
      ]
    },
    {
      "cell_type": "code",
      "execution_count": null,
      "metadata": {
        "colab": {
          "base_uri": "https://localhost:8080/"
        },
        "id": "MsKrSpLaA9iZ",
        "outputId": "08ebb8c4-44bd-4bee-817a-ef34a8f1fdba"
      },
      "outputs": [
        {
          "name": "stdout",
          "output_type": "stream",
          "text": [
            "[1 2 3 4 5 6]\n"
          ]
        }
      ],
      "source": [
        "import numpy as np\n",
        "\n",
        "x = np.array([1, 2, 3])\n",
        "v = np.array([4, 5, 6])\n",
        "\n",
        "result = np.concatenate((x, v))\n",
        "print(result)"
      ]
    },
    {
      "cell_type": "markdown",
      "metadata": {
        "id": "tDsKyDvCClpU"
      },
      "source": [
        "### Common Errors in NumPy Concatenation\n",
        "\n",
        "1. **TypeError**: If `x` or `v` are not NumPy arrays, you'll get a `TypeError`. Convert them to NumPy arrays first.\n",
        "2. **ValueError**: If `x` and `v` have different dimensions (e.g., one is 1D and the other is 2D), you'll get a `ValueError`. Ensure they have the same shape along the concatenation axis.\n",
        "\n",
        "#### Example of TypeError:\n",
        "\n",
        "x = [1, 2, 3]  # Not a NumPy array\n",
        "v = np.array([4, 5, 6])\n",
        "\n",
        "result = np.concatenate((x, v))  # TypeError"
      ]
    },
    {
      "cell_type": "markdown",
      "metadata": {
        "id": "-9hskd_8FpnX"
      },
      "source": [
        "# Problem - 4: Matrix Operations:"
      ]
    },
    {
      "cell_type": "markdown",
      "metadata": {
        "id": "7wIfqv0Ekp6o"
      },
      "source": [
        "## For the following arrays"
      ]
    },
    {
      "cell_type": "markdown",
      "metadata": {
        "id": "-qkz55hHnzk_"
      },
      "source": [
        "A = np.array([[3,4],[7,8]]) and B = np.array([[5,3],[2,1]]);\n",
        "Prove following with Numpy:"
      ]
    },
    {
      "cell_type": "markdown",
      "metadata": {
        "id": "0-8tv1D_k9YN"
      },
      "source": [
        "### 1. Prove A.A−1 = I."
      ]
    },
    {
      "cell_type": "code",
      "execution_count": null,
      "metadata": {
        "colab": {
          "base_uri": "https://localhost:8080/"
        },
        "id": "Pbk9DSUblFFf",
        "outputId": "613dad06-6895-4766-a203-a3aa0d94b2c7"
      },
      "outputs": [
        {
          "name": "stdout",
          "output_type": "stream",
          "text": [
            "A * A_inv:\n",
            " [[1.00000000e+00 0.00000000e+00]\n",
            " [1.77635684e-15 1.00000000e+00]]\n",
            "Is A * A_inv equal to I?  True\n"
          ]
        }
      ],
      "source": [
        "import numpy as np\n",
        "\n",
        "# Define matrix A\n",
        "A = np.array([[3, 4], [7, 8]])\n",
        "\n",
        "# Compute the inverse of A\n",
        "A_inv = np.linalg.inv(A)\n",
        "\n",
        "# Multiply A with its inverse\n",
        "result = np.dot(A, A_inv)\n",
        "\n",
        "# Print result\n",
        "print(\"A * A_inv:\\n\", result)\n",
        "\n",
        "# Check if result is an identity matrix\n",
        "I = np.eye(2)  # 2x2 identity matrix\n",
        "print(\"Is A * A_inv equal to I? \", np.allclose(result, I))\n"
      ]
    },
    {
      "cell_type": "markdown",
      "metadata": {
        "id": "7yw7dd5jmMat"
      },
      "source": [
        "### 2. Prove AB ̸= BA."
      ]
    },
    {
      "cell_type": "code",
      "execution_count": null,
      "metadata": {
        "colab": {
          "base_uri": "https://localhost:8080/"
        },
        "id": "eBEVQ2mzmIFG",
        "outputId": "290c6ae4-cbcc-4c58-e281-5caa54620ea3"
      },
      "outputs": [
        {
          "name": "stdout",
          "output_type": "stream",
          "text": [
            "AB:\n",
            " [[23 13]\n",
            " [51 29]]\n",
            "BA:\n",
            " [[36 44]\n",
            " [13 16]]\n",
            "Is AB not equal to BA?  True\n"
          ]
        }
      ],
      "source": [
        "import numpy as np\n",
        "\n",
        "# Define matrices A and B\n",
        "A = np.array([[3, 4], [7, 8]])\n",
        "B = np.array([[5, 3], [2, 1]])\n",
        "\n",
        "# Compute AB\n",
        "AB = np.dot(A, B)\n",
        "\n",
        "# Compute BA\n",
        "BA = np.dot(B, A)\n",
        "\n",
        "# Print results\n",
        "print(\"AB:\\n\", AB)\n",
        "print(\"BA:\\n\", BA)\n",
        "\n",
        "# Check if AB is not equal to BA\n",
        "print(\"Is AB not equal to BA? \", not np.array_equal(AB, BA))\n"
      ]
    },
    {
      "cell_type": "markdown",
      "metadata": {
        "id": "F04D9NFumqTv"
      },
      "source": [
        "### 3. Prove (AB)T = BTAT"
      ]
    },
    {
      "cell_type": "code",
      "execution_count": null,
      "metadata": {
        "colab": {
          "base_uri": "https://localhost:8080/"
        },
        "id": "HcE754IynIH8",
        "outputId": "bd1850e0-c7e0-450f-85c1-ad8f4ee571c7"
      },
      "outputs": [
        {
          "name": "stdout",
          "output_type": "stream",
          "text": [
            "(AB)^T:\n",
            " [[23 51]\n",
            " [13 29]]\n",
            "B^T * A^T:\n",
            " [[23 51]\n",
            " [13 29]]\n",
            "Is (AB)^T equal to B^T * A^T?  True\n"
          ]
        }
      ],
      "source": [
        "import numpy as np\n",
        "\n",
        "# Define matrices A and B\n",
        "A = np.array([[3, 4], [7, 8]])\n",
        "B = np.array([[5, 3], [2, 1]])\n",
        "\n",
        "# Compute AB\n",
        "AB = np.dot(A, B)\n",
        "\n",
        "# Compute (AB)^T\n",
        "AB_T = AB.T\n",
        "\n",
        "# Compute B^T and A^T\n",
        "B_T = B.T\n",
        "A_T = A.T\n",
        "\n",
        "# Compute B^T * A^T\n",
        "BT_AT = np.dot(B_T, A_T)\n",
        "\n",
        "# Print results\n",
        "print(\"(AB)^T:\\n\", AB_T)\n",
        "print(\"B^T * A^T:\\n\", BT_AT)\n",
        "\n",
        "# Check if (AB)^T == B^T * A^T\n",
        "print(\"Is (AB)^T equal to B^T * A^T? \", np.array_equal(AB_T, BT_AT))\n"
      ]
    },
    {
      "cell_type": "markdown",
      "metadata": {
        "id": "O4Nays4eovLG"
      },
      "source": [
        "## Solve the following system of Linear equation using Inverse Methods."
      ]
    },
    {
      "cell_type": "markdown",
      "metadata": {
        "id": "OBRm6VzSrY1R"
      },
      "source": [
        "2x − 3y + z = −1\n",
        "x − y + 2z = −3\n",
        "3x + y − z = 9"
      ]
    },
    {
      "cell_type": "code",
      "execution_count": null,
      "metadata": {
        "colab": {
          "base_uri": "https://localhost:8080/"
        },
        "id": "SfYxzUXPozJ2",
        "outputId": "f5639276-deff-4474-e513-48e7d961df86"
      },
      "outputs": [
        {
          "name": "stdout",
          "output_type": "stream",
          "text": [
            "Solution for x, y, z =  [ 2.  1. -2.]\n"
          ]
        }
      ],
      "source": [
        "import numpy as np\n",
        "\n",
        "# Define matrix A\n",
        "A = np.array([[2, -3, 1], [1, -1, 2], [3, 1, -1]])\n",
        "\n",
        "# Define matrix B\n",
        "B = np.array([-1, -3, 9])\n",
        "\n",
        "# Compute the inverse of A\n",
        "A_inv = np.linalg.inv(A)\n",
        "\n",
        "# Solve for X using X = A_inv * B\n",
        "X = np.dot(A_inv, B)\n",
        "\n",
        "# Print results\n",
        "print(\"Solution for x, y, z = \",X)\n",
        "\n"
      ]
    }
  ],
  "metadata": {
    "colab": {
      "collapsed_sections": [
        "J3fUZtulL2tf",
        "xZ18KvObmqkh",
        "lgkm4CJZMHM_",
        "4xSYMuxZMRlT",
        "y-SKjbSFrJnC",
        "FNyKkzCCtUzV",
        "JyGrEh6hymhB",
        "emx7vHmb75Kp",
        "vKnHQOunOVcd",
        "oI9IRKBCOcUS",
        "DnbuAAKCWkKy",
        "GDD4LjvqoFft",
        "74aFuqW2r5b4",
        "t1bwm92xsaZF",
        "kXZUaAT5tK29",
        "q4FPMLxouCTS",
        "CEQb4jicu_Sf",
        "K77pXcbaw6nY",
        "7wIfqv0Ekp6o",
        "0-8tv1D_k9YN",
        "7yw7dd5jmMat",
        "F04D9NFumqTv",
        "O4Nays4eovLG"
      ],
      "provenance": []
    },
    "kernelspec": {
      "display_name": "Python 3 (ipykernel)",
      "language": "python",
      "name": "python3"
    },
    "language_info": {
      "codemirror_mode": {
        "name": "ipython",
        "version": 3
      },
      "file_extension": ".py",
      "mimetype": "text/x-python",
      "name": "python",
      "nbconvert_exporter": "python",
      "pygments_lexer": "ipython3",
      "version": "3.13.2"
    }
  },
  "nbformat": 4,
  "nbformat_minor": 0
}